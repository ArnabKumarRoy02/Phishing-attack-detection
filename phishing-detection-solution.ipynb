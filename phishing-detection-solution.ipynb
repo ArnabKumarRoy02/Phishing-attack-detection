{
 "cells": [
  {
   "cell_type": "code",
   "execution_count": 1,
   "id": "df0e328e",
   "metadata": {
    "_cell_guid": "b1076dfc-b9ad-4769-8c92-a6c4dae69d19",
    "_uuid": "8f2839f25d086af736a60e9eeb907d3b93b6e0e5",
    "execution": {
     "iopub.execute_input": "2023-04-04T18:11:23.989522Z",
     "iopub.status.busy": "2023-04-04T18:11:23.989037Z",
     "iopub.status.idle": "2023-04-04T18:11:34.938750Z",
     "shell.execute_reply": "2023-04-04T18:11:34.937402Z"
    },
    "papermill": {
     "duration": 10.964526,
     "end_time": "2023-04-04T18:11:34.941505",
     "exception": false,
     "start_time": "2023-04-04T18:11:23.976979",
     "status": "completed"
    },
    "tags": []
   },
   "outputs": [
    {
     "name": "stdout",
     "output_type": "stream",
     "text": [
      "Collecting tld\r\n",
      "  Downloading tld-0.13-py2.py3-none-any.whl (263 kB)\r\n",
      "\u001b[2K     \u001b[90m━━━━━━━━━━━━━━━━━━━━━━━━━━━━━━━━━━━━━━━\u001b[0m \u001b[32m263.8/263.8 kB\u001b[0m \u001b[31m6.6 MB/s\u001b[0m eta \u001b[36m0:00:00\u001b[0m\r\n",
      "\u001b[?25hInstalling collected packages: tld\r\n",
      "Successfully installed tld-0.13\r\n",
      "\u001b[33mWARNING: Running pip as the 'root' user can result in broken permissions and conflicting behaviour with the system package manager. It is recommended to use a virtual environment instead: https://pip.pypa.io/warnings/venv\u001b[0m\u001b[33m\r\n",
      "\u001b[0m"
     ]
    }
   ],
   "source": [
    "!pip install tld"
   ]
  },
  {
   "cell_type": "markdown",
   "id": "f7818ecf",
   "metadata": {
    "papermill": {
     "duration": 0.00937,
     "end_time": "2023-04-04T18:11:34.961306",
     "exception": false,
     "start_time": "2023-04-04T18:11:34.951936",
     "status": "completed"
    },
    "tags": []
   },
   "source": [
    "# Importing the Libraries"
   ]
  },
  {
   "cell_type": "code",
   "execution_count": 2,
   "id": "dbb1ba95",
   "metadata": {
    "execution": {
     "iopub.execute_input": "2023-04-04T18:11:34.982833Z",
     "iopub.status.busy": "2023-04-04T18:11:34.981923Z",
     "iopub.status.idle": "2023-04-04T18:11:36.529929Z",
     "shell.execute_reply": "2023-04-04T18:11:36.528856Z"
    },
    "papermill": {
     "duration": 1.561717,
     "end_time": "2023-04-04T18:11:36.532831",
     "exception": false,
     "start_time": "2023-04-04T18:11:34.971114",
     "status": "completed"
    },
    "tags": []
   },
   "outputs": [],
   "source": [
    "import re\n",
    "import numpy as np\n",
    "import pandas as pd\n",
    "import seaborn as sns\n",
    "import matplotlib.pyplot as plt\n",
    "from colorama import Fore\n",
    "from urllib.parse import urlparse\n",
    "from sklearn.model_selection import train_test_split\n",
    "from sklearn.metrics import confusion_matrix, classification_report, accuracy_score\n",
    "from sklearn.tree import DecisionTreeClassifier\n",
    "from sklearn.ensemble import RandomForestClassifier, AdaBoostClassifier, ExtraTreesClassifier\n",
    "from sklearn.neighbors import KNeighborsClassifier\n",
    "from sklearn.linear_model import SGDClassifier\n",
    "from sklearn.naive_bayes import GaussianNB\n",
    "from tld import get_tld, is_tld"
   ]
  },
  {
   "cell_type": "markdown",
   "id": "c16230db",
   "metadata": {
    "papermill": {
     "duration": 0.009234,
     "end_time": "2023-04-04T18:11:36.552969",
     "exception": false,
     "start_time": "2023-04-04T18:11:36.543735",
     "status": "completed"
    },
    "tags": []
   },
   "source": [
    "# Load Dataset"
   ]
  },
  {
   "cell_type": "code",
   "execution_count": 3,
   "id": "ae2b7520",
   "metadata": {
    "execution": {
     "iopub.execute_input": "2023-04-04T18:11:36.574592Z",
     "iopub.status.busy": "2023-04-04T18:11:36.574262Z",
     "iopub.status.idle": "2023-04-04T18:11:37.870495Z",
     "shell.execute_reply": "2023-04-04T18:11:37.869462Z"
    },
    "papermill": {
     "duration": 1.308932,
     "end_time": "2023-04-04T18:11:37.872728",
     "exception": false,
     "start_time": "2023-04-04T18:11:36.563796",
     "status": "completed"
    },
    "tags": []
   },
   "outputs": [
    {
     "data": {
      "text/html": [
       "<div>\n",
       "<style scoped>\n",
       "    .dataframe tbody tr th:only-of-type {\n",
       "        vertical-align: middle;\n",
       "    }\n",
       "\n",
       "    .dataframe tbody tr th {\n",
       "        vertical-align: top;\n",
       "    }\n",
       "\n",
       "    .dataframe thead th {\n",
       "        text-align: right;\n",
       "    }\n",
       "</style>\n",
       "<table border=\"1\" class=\"dataframe\">\n",
       "  <thead>\n",
       "    <tr style=\"text-align: right;\">\n",
       "      <th></th>\n",
       "      <th>url</th>\n",
       "      <th>type</th>\n",
       "    </tr>\n",
       "  </thead>\n",
       "  <tbody>\n",
       "    <tr>\n",
       "      <th>0</th>\n",
       "      <td>br-icloud.com.br</td>\n",
       "      <td>phishing</td>\n",
       "    </tr>\n",
       "    <tr>\n",
       "      <th>1</th>\n",
       "      <td>mp3raid.com/music/krizz_kaliko.html</td>\n",
       "      <td>benign</td>\n",
       "    </tr>\n",
       "    <tr>\n",
       "      <th>2</th>\n",
       "      <td>bopsecrets.org/rexroth/cr/1.htm</td>\n",
       "      <td>benign</td>\n",
       "    </tr>\n",
       "    <tr>\n",
       "      <th>3</th>\n",
       "      <td>http://www.garage-pirenne.be/index.php?option=...</td>\n",
       "      <td>defacement</td>\n",
       "    </tr>\n",
       "    <tr>\n",
       "      <th>4</th>\n",
       "      <td>http://adventure-nicaragua.net/index.php?optio...</td>\n",
       "      <td>defacement</td>\n",
       "    </tr>\n",
       "  </tbody>\n",
       "</table>\n",
       "</div>"
      ],
      "text/plain": [
       "                                                 url        type\n",
       "0                                   br-icloud.com.br    phishing\n",
       "1                mp3raid.com/music/krizz_kaliko.html      benign\n",
       "2                    bopsecrets.org/rexroth/cr/1.htm      benign\n",
       "3  http://www.garage-pirenne.be/index.php?option=...  defacement\n",
       "4  http://adventure-nicaragua.net/index.php?optio...  defacement"
      ]
     },
     "execution_count": 3,
     "metadata": {},
     "output_type": "execute_result"
    }
   ],
   "source": [
    "data = pd.read_csv('/kaggle/input/malicious-urls-dataset/malicious_phish.csv')\n",
    "data.head()"
   ]
  },
  {
   "cell_type": "markdown",
   "id": "dc409343",
   "metadata": {
    "papermill": {
     "duration": 0.009298,
     "end_time": "2023-04-04T18:11:37.891856",
     "exception": false,
     "start_time": "2023-04-04T18:11:37.882558",
     "status": "completed"
    },
    "tags": []
   },
   "source": [
    "# Meta Information of Dataframe"
   ]
  },
  {
   "cell_type": "code",
   "execution_count": 4,
   "id": "aaa604bd",
   "metadata": {
    "execution": {
     "iopub.execute_input": "2023-04-04T18:11:37.912568Z",
     "iopub.status.busy": "2023-04-04T18:11:37.911714Z",
     "iopub.status.idle": "2023-04-04T18:11:37.980315Z",
     "shell.execute_reply": "2023-04-04T18:11:37.979018Z"
    },
    "papermill": {
     "duration": 0.081395,
     "end_time": "2023-04-04T18:11:37.982716",
     "exception": false,
     "start_time": "2023-04-04T18:11:37.901321",
     "status": "completed"
    },
    "tags": []
   },
   "outputs": [
    {
     "name": "stdout",
     "output_type": "stream",
     "text": [
      "<class 'pandas.core.frame.DataFrame'>\n",
      "RangeIndex: 651191 entries, 0 to 651190\n",
      "Data columns (total 2 columns):\n",
      " #   Column  Non-Null Count   Dtype \n",
      "---  ------  --------------   ----- \n",
      " 0   url     651191 non-null  object\n",
      " 1   type    651191 non-null  object\n",
      "dtypes: object(2)\n",
      "memory usage: 9.9+ MB\n"
     ]
    }
   ],
   "source": [
    "data.info()"
   ]
  },
  {
   "cell_type": "markdown",
   "id": "8ce8e86c",
   "metadata": {
    "papermill": {
     "duration": 0.009468,
     "end_time": "2023-04-04T18:11:38.002800",
     "exception": false,
     "start_time": "2023-04-04T18:11:37.993332",
     "status": "completed"
    },
    "tags": []
   },
   "source": [
    "# Checking for NaN values"
   ]
  },
  {
   "cell_type": "code",
   "execution_count": 5,
   "id": "11ab0a76",
   "metadata": {
    "execution": {
     "iopub.execute_input": "2023-04-04T18:11:38.024762Z",
     "iopub.status.busy": "2023-04-04T18:11:38.024220Z",
     "iopub.status.idle": "2023-04-04T18:11:38.080238Z",
     "shell.execute_reply": "2023-04-04T18:11:38.079137Z"
    },
    "papermill": {
     "duration": 0.069536,
     "end_time": "2023-04-04T18:11:38.082257",
     "exception": false,
     "start_time": "2023-04-04T18:11:38.012721",
     "status": "completed"
    },
    "tags": []
   },
   "outputs": [
    {
     "data": {
      "text/plain": [
       "url     0\n",
       "type    0\n",
       "dtype: int64"
      ]
     },
     "execution_count": 5,
     "metadata": {},
     "output_type": "execute_result"
    }
   ],
   "source": [
    "# Checking for any null data in the dataset\n",
    "data.isnull().sum()"
   ]
  },
  {
   "cell_type": "code",
   "execution_count": 6,
   "id": "57aeba20",
   "metadata": {
    "execution": {
     "iopub.execute_input": "2023-04-04T18:11:38.103351Z",
     "iopub.status.busy": "2023-04-04T18:11:38.102551Z",
     "iopub.status.idle": "2023-04-04T18:11:38.137402Z",
     "shell.execute_reply": "2023-04-04T18:11:38.136273Z"
    },
    "papermill": {
     "duration": 0.047752,
     "end_time": "2023-04-04T18:11:38.139703",
     "exception": false,
     "start_time": "2023-04-04T18:11:38.091951",
     "status": "completed"
    },
    "tags": []
   },
   "outputs": [
    {
     "data": {
      "text/plain": [
       "benign        428103\n",
       "defacement     96457\n",
       "phishing       94111\n",
       "malware        32520\n",
       "Name: type, dtype: int64"
      ]
     },
     "execution_count": 6,
     "metadata": {},
     "output_type": "execute_result"
    }
   ],
   "source": [
    "# Count the different types of data in the dataset\n",
    "count = data.type.value_counts()\n",
    "count"
   ]
  },
  {
   "cell_type": "code",
   "execution_count": 7,
   "id": "57d41589",
   "metadata": {
    "execution": {
     "iopub.execute_input": "2023-04-04T18:11:38.160275Z",
     "iopub.status.busy": "2023-04-04T18:11:38.160009Z",
     "iopub.status.idle": "2023-04-04T18:11:38.404786Z",
     "shell.execute_reply": "2023-04-04T18:11:38.403839Z"
    },
    "papermill": {
     "duration": 0.257706,
     "end_time": "2023-04-04T18:11:38.407065",
     "exception": false,
     "start_time": "2023-04-04T18:11:38.149359",
     "status": "completed"
    },
    "tags": []
   },
   "outputs": [
    {
     "data": {
      "text/plain": [
       "Text(0, 0.5, 'Count')"
      ]
     },
     "execution_count": 7,
     "metadata": {},
     "output_type": "execute_result"
    },
    {
     "data": {
      "image/png": "[encoded data removed]",
      "text/plain": [
       "<Figure size 640x480 with 1 Axes>"
      ]
     },
     "metadata": {},
     "output_type": "display_data"
    }
   ],
   "source": [
    "sns.barplot(x=count.index, y=count)\n",
    "plt.xlabel('Types')\n",
    "plt.ylabel('Count')"
   ]
  },
  {
   "cell_type": "code",
   "execution_count": 8,
   "id": "f3240444",
   "metadata": {
    "execution": {
     "iopub.execute_input": "2023-04-04T18:11:38.430666Z",
     "iopub.status.busy": "2023-04-04T18:11:38.429002Z",
     "iopub.status.idle": "2023-04-04T18:11:39.404424Z",
     "shell.execute_reply": "2023-04-04T18:11:39.403351Z"
    },
    "papermill": {
     "duration": 0.989004,
     "end_time": "2023-04-04T18:11:39.406725",
     "exception": false,
     "start_time": "2023-04-04T18:11:38.417721",
     "status": "completed"
    },
    "tags": []
   },
   "outputs": [
    {
     "data": {
      "text/html": [
       "<div>\n",
       "<style scoped>\n",
       "    .dataframe tbody tr th:only-of-type {\n",
       "        vertical-align: middle;\n",
       "    }\n",
       "\n",
       "    .dataframe tbody tr th {\n",
       "        vertical-align: top;\n",
       "    }\n",
       "\n",
       "    .dataframe thead th {\n",
       "        text-align: right;\n",
       "    }\n",
       "</style>\n",
       "<table border=\"1\" class=\"dataframe\">\n",
       "  <thead>\n",
       "    <tr style=\"text-align: right;\">\n",
       "      <th></th>\n",
       "      <th>url</th>\n",
       "      <th>type</th>\n",
       "    </tr>\n",
       "  </thead>\n",
       "  <tbody>\n",
       "    <tr>\n",
       "      <th>0</th>\n",
       "      <td>br-icloud.com.br</td>\n",
       "      <td>phishing</td>\n",
       "    </tr>\n",
       "    <tr>\n",
       "      <th>1</th>\n",
       "      <td>mp3raid.com/music/krizz_kaliko.html</td>\n",
       "      <td>benign</td>\n",
       "    </tr>\n",
       "    <tr>\n",
       "      <th>2</th>\n",
       "      <td>bopsecrets.org/rexroth/cr/1.htm</td>\n",
       "      <td>benign</td>\n",
       "    </tr>\n",
       "    <tr>\n",
       "      <th>3</th>\n",
       "      <td>http://garage-pirenne.be/index.php?option=com_...</td>\n",
       "      <td>defacement</td>\n",
       "    </tr>\n",
       "    <tr>\n",
       "      <th>4</th>\n",
       "      <td>http://adventure-nicaragua.net/index.php?optio...</td>\n",
       "      <td>defacement</td>\n",
       "    </tr>\n",
       "    <tr>\n",
       "      <th>...</th>\n",
       "      <td>...</td>\n",
       "      <td>...</td>\n",
       "    </tr>\n",
       "    <tr>\n",
       "      <th>651186</th>\n",
       "      <td>xbox360.ign.com/objects/850/850402.html</td>\n",
       "      <td>phishing</td>\n",
       "    </tr>\n",
       "    <tr>\n",
       "      <th>651187</th>\n",
       "      <td>games.teamxbox.com/xbox-360/1860/Dead-Space/</td>\n",
       "      <td>phishing</td>\n",
       "    </tr>\n",
       "    <tr>\n",
       "      <th>651188</th>\n",
       "      <td>gamespot.com/xbox360/action/deadspace/</td>\n",
       "      <td>phishing</td>\n",
       "    </tr>\n",
       "    <tr>\n",
       "      <th>651189</th>\n",
       "      <td>en.wikipedia.org/wiki/Dead_Space_(video_game)</td>\n",
       "      <td>phishing</td>\n",
       "    </tr>\n",
       "    <tr>\n",
       "      <th>651190</th>\n",
       "      <td>angelfire.com/goth/devilmaycrytonite/</td>\n",
       "      <td>phishing</td>\n",
       "    </tr>\n",
       "  </tbody>\n",
       "</table>\n",
       "<p>651191 rows × 2 columns</p>\n",
       "</div>"
      ],
      "text/plain": [
       "                                                      url        type\n",
       "0                                        br-icloud.com.br    phishing\n",
       "1                     mp3raid.com/music/krizz_kaliko.html      benign\n",
       "2                         bopsecrets.org/rexroth/cr/1.htm      benign\n",
       "3       http://garage-pirenne.be/index.php?option=com_...  defacement\n",
       "4       http://adventure-nicaragua.net/index.php?optio...  defacement\n",
       "...                                                   ...         ...\n",
       "651186            xbox360.ign.com/objects/850/850402.html    phishing\n",
       "651187       games.teamxbox.com/xbox-360/1860/Dead-Space/    phishing\n",
       "651188             gamespot.com/xbox360/action/deadspace/    phishing\n",
       "651189      en.wikipedia.org/wiki/Dead_Space_(video_game)    phishing\n",
       "651190              angelfire.com/goth/devilmaycrytonite/    phishing\n",
       "\n",
       "[651191 rows x 2 columns]"
      ]
     },
     "execution_count": 8,
     "metadata": {},
     "output_type": "execute_result"
    }
   ],
   "source": [
    "# We will omit the (www.) from the URL which is in fact a sub-domain in itself\n",
    "data['url'] = data['url'].replace('www.', '', regex=True)\n",
    "data"
   ]
  },
  {
   "cell_type": "code",
   "execution_count": 9,
   "id": "38739d71",
   "metadata": {
    "execution": {
     "iopub.execute_input": "2023-04-04T18:11:39.429857Z",
     "iopub.status.busy": "2023-04-04T18:11:39.429005Z",
     "iopub.status.idle": "2023-04-04T18:11:39.438456Z",
     "shell.execute_reply": "2023-04-04T18:11:39.437428Z"
    },
    "papermill": {
     "duration": 0.023177,
     "end_time": "2023-04-04T18:11:39.440656",
     "exception": false,
     "start_time": "2023-04-04T18:11:39.417479",
     "status": "completed"
    },
    "tags": []
   },
   "outputs": [
    {
     "data": {
      "text/html": [
       "<div>\n",
       "<style scoped>\n",
       "    .dataframe tbody tr th:only-of-type {\n",
       "        vertical-align: middle;\n",
       "    }\n",
       "\n",
       "    .dataframe tbody tr th {\n",
       "        vertical-align: top;\n",
       "    }\n",
       "\n",
       "    .dataframe thead th {\n",
       "        text-align: right;\n",
       "    }\n",
       "</style>\n",
       "<table border=\"1\" class=\"dataframe\">\n",
       "  <thead>\n",
       "    <tr style=\"text-align: right;\">\n",
       "      <th></th>\n",
       "      <th>url</th>\n",
       "      <th>type</th>\n",
       "    </tr>\n",
       "  </thead>\n",
       "  <tbody>\n",
       "    <tr>\n",
       "      <th>0</th>\n",
       "      <td>br-icloud.com.br</td>\n",
       "      <td>phishing</td>\n",
       "    </tr>\n",
       "    <tr>\n",
       "      <th>1</th>\n",
       "      <td>mp3raid.com/music/krizz_kaliko.html</td>\n",
       "      <td>benign</td>\n",
       "    </tr>\n",
       "    <tr>\n",
       "      <th>2</th>\n",
       "      <td>bopsecrets.org/rexroth/cr/1.htm</td>\n",
       "      <td>benign</td>\n",
       "    </tr>\n",
       "    <tr>\n",
       "      <th>3</th>\n",
       "      <td>http://garage-pirenne.be/index.php?option=com_...</td>\n",
       "      <td>defacement</td>\n",
       "    </tr>\n",
       "    <tr>\n",
       "      <th>4</th>\n",
       "      <td>http://adventure-nicaragua.net/index.php?optio...</td>\n",
       "      <td>defacement</td>\n",
       "    </tr>\n",
       "  </tbody>\n",
       "</table>\n",
       "</div>"
      ],
      "text/plain": [
       "                                                 url        type\n",
       "0                                   br-icloud.com.br    phishing\n",
       "1                mp3raid.com/music/krizz_kaliko.html      benign\n",
       "2                    bopsecrets.org/rexroth/cr/1.htm      benign\n",
       "3  http://garage-pirenne.be/index.php?option=com_...  defacement\n",
       "4  http://adventure-nicaragua.net/index.php?optio...  defacement"
      ]
     },
     "execution_count": 9,
     "metadata": {},
     "output_type": "execute_result"
    }
   ],
   "source": [
    "data.head()"
   ]
  },
  {
   "cell_type": "code",
   "execution_count": 10,
   "id": "35cf897a",
   "metadata": {
    "execution": {
     "iopub.execute_input": "2023-04-04T18:11:39.463364Z",
     "iopub.status.busy": "2023-04-04T18:11:39.463069Z",
     "iopub.status.idle": "2023-04-04T18:11:39.808347Z",
     "shell.execute_reply": "2023-04-04T18:11:39.807330Z"
    },
    "papermill": {
     "duration": 0.360041,
     "end_time": "2023-04-04T18:11:39.811306",
     "exception": false,
     "start_time": "2023-04-04T18:11:39.451265",
     "status": "completed"
    },
    "tags": []
   },
   "outputs": [],
   "source": [
    "rem = {\n",
    "    'Category': {\n",
    "        'benign': 0,\n",
    "        'defacement': 1,\n",
    "        'phishing': 2,\n",
    "        'malware': 3\n",
    "    }\n",
    "}\n",
    "data['Category'] = data['type']\n",
    "data = data.replace(rem)"
   ]
  },
  {
   "cell_type": "markdown",
   "id": "6e4a344e",
   "metadata": {
    "papermill": {
     "duration": 0.010696,
     "end_time": "2023-04-04T18:11:39.835141",
     "exception": false,
     "start_time": "2023-04-04T18:11:39.824445",
     "status": "completed"
    },
    "tags": []
   },
   "source": [
    "# Feature Extraction"
   ]
  },
  {
   "cell_type": "code",
   "execution_count": 11,
   "id": "6d030b46",
   "metadata": {
    "execution": {
     "iopub.execute_input": "2023-04-04T18:11:39.858170Z",
     "iopub.status.busy": "2023-04-04T18:11:39.857859Z",
     "iopub.status.idle": "2023-04-04T18:11:40.177980Z",
     "shell.execute_reply": "2023-04-04T18:11:40.176905Z"
    },
    "papermill": {
     "duration": 0.334834,
     "end_time": "2023-04-04T18:11:40.180919",
     "exception": false,
     "start_time": "2023-04-04T18:11:39.846085",
     "status": "completed"
    },
    "tags": []
   },
   "outputs": [],
   "source": [
    "data['url_len'] = data['url'].apply(lambda x: len(str(x)))"
   ]
  },
  {
   "cell_type": "code",
   "execution_count": 12,
   "id": "6feb846b",
   "metadata": {
    "execution": {
     "iopub.execute_input": "2023-04-04T18:11:40.206074Z",
     "iopub.status.busy": "2023-04-04T18:11:40.205574Z",
     "iopub.status.idle": "2023-04-04T18:11:40.210958Z",
     "shell.execute_reply": "2023-04-04T18:11:40.209886Z"
    },
    "papermill": {
     "duration": 0.020575,
     "end_time": "2023-04-04T18:11:40.213480",
     "exception": false,
     "start_time": "2023-04-04T18:11:40.192905",
     "status": "completed"
    },
    "tags": []
   },
   "outputs": [],
   "source": [
    "def process_tld(url):\n",
    "    try:\n",
    "        res = get_tld(url, as_object=True, fail_silently=False, fix_protocol=True)\n",
    "        pri_domain = res.parsed_url.netloc\n",
    "    except:\n",
    "        pri_domain = None\n",
    "    return pri_domain"
   ]
  },
  {
   "cell_type": "code",
   "execution_count": 13,
   "id": "46e6a807",
   "metadata": {
    "execution": {
     "iopub.execute_input": "2023-04-04T18:11:40.235933Z",
     "iopub.status.busy": "2023-04-04T18:11:40.235659Z",
     "iopub.status.idle": "2023-04-04T18:11:50.715879Z",
     "shell.execute_reply": "2023-04-04T18:11:50.714495Z"
    },
    "papermill": {
     "duration": 10.494819,
     "end_time": "2023-04-04T18:11:50.718954",
     "exception": false,
     "start_time": "2023-04-04T18:11:40.224135",
     "status": "completed"
    },
    "tags": []
   },
   "outputs": [],
   "source": [
    "data['domain'] = data['url'].apply(lambda i: process_tld(i))"
   ]
  },
  {
   "cell_type": "code",
   "execution_count": 14,
   "id": "4be2f5c6",
   "metadata": {
    "execution": {
     "iopub.execute_input": "2023-04-04T18:11:50.745325Z",
     "iopub.status.busy": "2023-04-04T18:11:50.744329Z",
     "iopub.status.idle": "2023-04-04T18:11:50.757834Z",
     "shell.execute_reply": "2023-04-04T18:11:50.755671Z"
    },
    "papermill": {
     "duration": 0.028886,
     "end_time": "2023-04-04T18:11:50.760099",
     "exception": false,
     "start_time": "2023-04-04T18:11:50.731213",
     "status": "completed"
    },
    "tags": []
   },
   "outputs": [
    {
     "data": {
      "text/html": [
       "<div>\n",
       "<style scoped>\n",
       "    .dataframe tbody tr th:only-of-type {\n",
       "        vertical-align: middle;\n",
       "    }\n",
       "\n",
       "    .dataframe tbody tr th {\n",
       "        vertical-align: top;\n",
       "    }\n",
       "\n",
       "    .dataframe thead th {\n",
       "        text-align: right;\n",
       "    }\n",
       "</style>\n",
       "<table border=\"1\" class=\"dataframe\">\n",
       "  <thead>\n",
       "    <tr style=\"text-align: right;\">\n",
       "      <th></th>\n",
       "      <th>url</th>\n",
       "      <th>type</th>\n",
       "      <th>Category</th>\n",
       "      <th>url_len</th>\n",
       "      <th>domain</th>\n",
       "    </tr>\n",
       "  </thead>\n",
       "  <tbody>\n",
       "    <tr>\n",
       "      <th>0</th>\n",
       "      <td>br-icloud.com.br</td>\n",
       "      <td>phishing</td>\n",
       "      <td>2</td>\n",
       "      <td>16</td>\n",
       "      <td>br-icloud.com.br</td>\n",
       "    </tr>\n",
       "    <tr>\n",
       "      <th>1</th>\n",
       "      <td>mp3raid.com/music/krizz_kaliko.html</td>\n",
       "      <td>benign</td>\n",
       "      <td>0</td>\n",
       "      <td>35</td>\n",
       "      <td>mp3raid.com</td>\n",
       "    </tr>\n",
       "    <tr>\n",
       "      <th>2</th>\n",
       "      <td>bopsecrets.org/rexroth/cr/1.htm</td>\n",
       "      <td>benign</td>\n",
       "      <td>0</td>\n",
       "      <td>31</td>\n",
       "      <td>bopsecrets.org</td>\n",
       "    </tr>\n",
       "    <tr>\n",
       "      <th>3</th>\n",
       "      <td>http://garage-pirenne.be/index.php?option=com_...</td>\n",
       "      <td>defacement</td>\n",
       "      <td>1</td>\n",
       "      <td>84</td>\n",
       "      <td>garage-pirenne.be</td>\n",
       "    </tr>\n",
       "    <tr>\n",
       "      <th>4</th>\n",
       "      <td>http://adventure-nicaragua.net/index.php?optio...</td>\n",
       "      <td>defacement</td>\n",
       "      <td>1</td>\n",
       "      <td>235</td>\n",
       "      <td>adventure-nicaragua.net</td>\n",
       "    </tr>\n",
       "  </tbody>\n",
       "</table>\n",
       "</div>"
      ],
      "text/plain": [
       "                                                 url        type  Category  \\\n",
       "0                                   br-icloud.com.br    phishing         2   \n",
       "1                mp3raid.com/music/krizz_kaliko.html      benign         0   \n",
       "2                    bopsecrets.org/rexroth/cr/1.htm      benign         0   \n",
       "3  http://garage-pirenne.be/index.php?option=com_...  defacement         1   \n",
       "4  http://adventure-nicaragua.net/index.php?optio...  defacement         1   \n",
       "\n",
       "   url_len                   domain  \n",
       "0       16         br-icloud.com.br  \n",
       "1       35              mp3raid.com  \n",
       "2       31           bopsecrets.org  \n",
       "3       84        garage-pirenne.be  \n",
       "4      235  adventure-nicaragua.net  "
      ]
     },
     "execution_count": 14,
     "metadata": {},
     "output_type": "execute_result"
    }
   ],
   "source": [
    "data.head()"
   ]
  },
  {
   "cell_type": "code",
   "execution_count": 15,
   "id": "a850215f",
   "metadata": {
    "execution": {
     "iopub.execute_input": "2023-04-04T18:11:50.785390Z",
     "iopub.status.busy": "2023-04-04T18:11:50.785100Z",
     "iopub.status.idle": "2023-04-04T18:11:50.795839Z",
     "shell.execute_reply": "2023-04-04T18:11:50.794776Z"
    },
    "papermill": {
     "duration": 0.025358,
     "end_time": "2023-04-04T18:11:50.797995",
     "exception": false,
     "start_time": "2023-04-04T18:11:50.772637",
     "status": "completed"
    },
    "tags": []
   },
   "outputs": [
    {
     "data": {
      "text/html": [
       "<div>\n",
       "<style scoped>\n",
       "    .dataframe tbody tr th:only-of-type {\n",
       "        vertical-align: middle;\n",
       "    }\n",
       "\n",
       "    .dataframe tbody tr th {\n",
       "        vertical-align: top;\n",
       "    }\n",
       "\n",
       "    .dataframe thead th {\n",
       "        text-align: right;\n",
       "    }\n",
       "</style>\n",
       "<table border=\"1\" class=\"dataframe\">\n",
       "  <thead>\n",
       "    <tr style=\"text-align: right;\">\n",
       "      <th></th>\n",
       "      <th>url</th>\n",
       "      <th>type</th>\n",
       "      <th>Category</th>\n",
       "      <th>url_len</th>\n",
       "      <th>domain</th>\n",
       "    </tr>\n",
       "  </thead>\n",
       "  <tbody>\n",
       "    <tr>\n",
       "      <th>0</th>\n",
       "      <td>br-icloud.com.br</td>\n",
       "      <td>phishing</td>\n",
       "      <td>2</td>\n",
       "      <td>16</td>\n",
       "      <td>br-icloud.com.br</td>\n",
       "    </tr>\n",
       "    <tr>\n",
       "      <th>1</th>\n",
       "      <td>mp3raid.com/music/krizz_kaliko.html</td>\n",
       "      <td>benign</td>\n",
       "      <td>0</td>\n",
       "      <td>35</td>\n",
       "      <td>mp3raid.com</td>\n",
       "    </tr>\n",
       "    <tr>\n",
       "      <th>2</th>\n",
       "      <td>bopsecrets.org/rexroth/cr/1.htm</td>\n",
       "      <td>benign</td>\n",
       "      <td>0</td>\n",
       "      <td>31</td>\n",
       "      <td>bopsecrets.org</td>\n",
       "    </tr>\n",
       "    <tr>\n",
       "      <th>3</th>\n",
       "      <td>http://garage-pirenne.be/index.php?option=com_...</td>\n",
       "      <td>defacement</td>\n",
       "      <td>1</td>\n",
       "      <td>84</td>\n",
       "      <td>garage-pirenne.be</td>\n",
       "    </tr>\n",
       "    <tr>\n",
       "      <th>4</th>\n",
       "      <td>http://adventure-nicaragua.net/index.php?optio...</td>\n",
       "      <td>defacement</td>\n",
       "      <td>1</td>\n",
       "      <td>235</td>\n",
       "      <td>adventure-nicaragua.net</td>\n",
       "    </tr>\n",
       "  </tbody>\n",
       "</table>\n",
       "</div>"
      ],
      "text/plain": [
       "                                                 url        type  Category  \\\n",
       "0                                   br-icloud.com.br    phishing         2   \n",
       "1                mp3raid.com/music/krizz_kaliko.html      benign         0   \n",
       "2                    bopsecrets.org/rexroth/cr/1.htm      benign         0   \n",
       "3  http://garage-pirenne.be/index.php?option=com_...  defacement         1   \n",
       "4  http://adventure-nicaragua.net/index.php?optio...  defacement         1   \n",
       "\n",
       "   url_len                   domain  \n",
       "0       16         br-icloud.com.br  \n",
       "1       35              mp3raid.com  \n",
       "2       31           bopsecrets.org  \n",
       "3       84        garage-pirenne.be  \n",
       "4      235  adventure-nicaragua.net  "
      ]
     },
     "execution_count": 15,
     "metadata": {},
     "output_type": "execute_result"
    }
   ],
   "source": [
    "data.head()"
   ]
  },
  {
   "cell_type": "code",
   "execution_count": 16,
   "id": "d0cb98be",
   "metadata": {
    "execution": {
     "iopub.execute_input": "2023-04-04T18:11:50.822575Z",
     "iopub.status.busy": "2023-04-04T18:11:50.822151Z",
     "iopub.status.idle": "2023-04-04T18:11:55.215928Z",
     "shell.execute_reply": "2023-04-04T18:11:55.214830Z"
    },
    "papermill": {
     "duration": 4.409138,
     "end_time": "2023-04-04T18:11:55.218865",
     "exception": false,
     "start_time": "2023-04-04T18:11:50.809727",
     "status": "completed"
    },
    "tags": []
   },
   "outputs": [],
   "source": [
    "feature = ['@', '?', '-', '=', '.', '#', '%', '+', '$', '!', '*', ',', '//']\n",
    "for a in feature:\n",
    "    data[a] = data['url'].apply(lambda i: i.count(a))"
   ]
  },
  {
   "cell_type": "code",
   "execution_count": 17,
   "id": "2a62227e",
   "metadata": {
    "execution": {
     "iopub.execute_input": "2023-04-04T18:11:55.242644Z",
     "iopub.status.busy": "2023-04-04T18:11:55.242328Z",
     "iopub.status.idle": "2023-04-04T18:11:55.256673Z",
     "shell.execute_reply": "2023-04-04T18:11:55.255713Z"
    },
    "papermill": {
     "duration": 0.028724,
     "end_time": "2023-04-04T18:11:55.259008",
     "exception": false,
     "start_time": "2023-04-04T18:11:55.230284",
     "status": "completed"
    },
    "tags": []
   },
   "outputs": [
    {
     "data": {
      "text/html": [
       "<div>\n",
       "<style scoped>\n",
       "    .dataframe tbody tr th:only-of-type {\n",
       "        vertical-align: middle;\n",
       "    }\n",
       "\n",
       "    .dataframe tbody tr th {\n",
       "        vertical-align: top;\n",
       "    }\n",
       "\n",
       "    .dataframe thead th {\n",
       "        text-align: right;\n",
       "    }\n",
       "</style>\n",
       "<table border=\"1\" class=\"dataframe\">\n",
       "  <thead>\n",
       "    <tr style=\"text-align: right;\">\n",
       "      <th></th>\n",
       "      <th>url</th>\n",
       "      <th>type</th>\n",
       "      <th>Category</th>\n",
       "      <th>url_len</th>\n",
       "      <th>domain</th>\n",
       "      <th>@</th>\n",
       "      <th>?</th>\n",
       "      <th>-</th>\n",
       "      <th>=</th>\n",
       "      <th>.</th>\n",
       "      <th>#</th>\n",
       "      <th>%</th>\n",
       "      <th>+</th>\n",
       "      <th>$</th>\n",
       "      <th>!</th>\n",
       "      <th>*</th>\n",
       "      <th>,</th>\n",
       "      <th>//</th>\n",
       "    </tr>\n",
       "  </thead>\n",
       "  <tbody>\n",
       "    <tr>\n",
       "      <th>0</th>\n",
       "      <td>br-icloud.com.br</td>\n",
       "      <td>phishing</td>\n",
       "      <td>2</td>\n",
       "      <td>16</td>\n",
       "      <td>br-icloud.com.br</td>\n",
       "      <td>0</td>\n",
       "      <td>0</td>\n",
       "      <td>1</td>\n",
       "      <td>0</td>\n",
       "      <td>2</td>\n",
       "      <td>0</td>\n",
       "      <td>0</td>\n",
       "      <td>0</td>\n",
       "      <td>0</td>\n",
       "      <td>0</td>\n",
       "      <td>0</td>\n",
       "      <td>0</td>\n",
       "      <td>0</td>\n",
       "    </tr>\n",
       "    <tr>\n",
       "      <th>1</th>\n",
       "      <td>mp3raid.com/music/krizz_kaliko.html</td>\n",
       "      <td>benign</td>\n",
       "      <td>0</td>\n",
       "      <td>35</td>\n",
       "      <td>mp3raid.com</td>\n",
       "      <td>0</td>\n",
       "      <td>0</td>\n",
       "      <td>0</td>\n",
       "      <td>0</td>\n",
       "      <td>2</td>\n",
       "      <td>0</td>\n",
       "      <td>0</td>\n",
       "      <td>0</td>\n",
       "      <td>0</td>\n",
       "      <td>0</td>\n",
       "      <td>0</td>\n",
       "      <td>0</td>\n",
       "      <td>0</td>\n",
       "    </tr>\n",
       "    <tr>\n",
       "      <th>2</th>\n",
       "      <td>bopsecrets.org/rexroth/cr/1.htm</td>\n",
       "      <td>benign</td>\n",
       "      <td>0</td>\n",
       "      <td>31</td>\n",
       "      <td>bopsecrets.org</td>\n",
       "      <td>0</td>\n",
       "      <td>0</td>\n",
       "      <td>0</td>\n",
       "      <td>0</td>\n",
       "      <td>2</td>\n",
       "      <td>0</td>\n",
       "      <td>0</td>\n",
       "      <td>0</td>\n",
       "      <td>0</td>\n",
       "      <td>0</td>\n",
       "      <td>0</td>\n",
       "      <td>0</td>\n",
       "      <td>0</td>\n",
       "    </tr>\n",
       "    <tr>\n",
       "      <th>3</th>\n",
       "      <td>http://garage-pirenne.be/index.php?option=com_...</td>\n",
       "      <td>defacement</td>\n",
       "      <td>1</td>\n",
       "      <td>84</td>\n",
       "      <td>garage-pirenne.be</td>\n",
       "      <td>0</td>\n",
       "      <td>1</td>\n",
       "      <td>1</td>\n",
       "      <td>4</td>\n",
       "      <td>2</td>\n",
       "      <td>0</td>\n",
       "      <td>0</td>\n",
       "      <td>0</td>\n",
       "      <td>0</td>\n",
       "      <td>0</td>\n",
       "      <td>0</td>\n",
       "      <td>0</td>\n",
       "      <td>1</td>\n",
       "    </tr>\n",
       "    <tr>\n",
       "      <th>4</th>\n",
       "      <td>http://adventure-nicaragua.net/index.php?optio...</td>\n",
       "      <td>defacement</td>\n",
       "      <td>1</td>\n",
       "      <td>235</td>\n",
       "      <td>adventure-nicaragua.net</td>\n",
       "      <td>0</td>\n",
       "      <td>1</td>\n",
       "      <td>1</td>\n",
       "      <td>3</td>\n",
       "      <td>2</td>\n",
       "      <td>0</td>\n",
       "      <td>0</td>\n",
       "      <td>0</td>\n",
       "      <td>0</td>\n",
       "      <td>0</td>\n",
       "      <td>0</td>\n",
       "      <td>0</td>\n",
       "      <td>1</td>\n",
       "    </tr>\n",
       "  </tbody>\n",
       "</table>\n",
       "</div>"
      ],
      "text/plain": [
       "                                                 url        type  Category  \\\n",
       "0                                   br-icloud.com.br    phishing         2   \n",
       "1                mp3raid.com/music/krizz_kaliko.html      benign         0   \n",
       "2                    bopsecrets.org/rexroth/cr/1.htm      benign         0   \n",
       "3  http://garage-pirenne.be/index.php?option=com_...  defacement         1   \n",
       "4  http://adventure-nicaragua.net/index.php?optio...  defacement         1   \n",
       "\n",
       "   url_len                   domain  @  ?  -  =  .  #  %  +  $  !  *  ,  //  \n",
       "0       16         br-icloud.com.br  0  0  1  0  2  0  0  0  0  0  0  0   0  \n",
       "1       35              mp3raid.com  0  0  0  0  2  0  0  0  0  0  0  0   0  \n",
       "2       31           bopsecrets.org  0  0  0  0  2  0  0  0  0  0  0  0   0  \n",
       "3       84        garage-pirenne.be  0  1  1  4  2  0  0  0  0  0  0  0   1  \n",
       "4      235  adventure-nicaragua.net  0  1  1  3  2  0  0  0  0  0  0  0   1  "
      ]
     },
     "execution_count": 17,
     "metadata": {},
     "output_type": "execute_result"
    }
   ],
   "source": [
    "data.head()"
   ]
  },
  {
   "cell_type": "code",
   "execution_count": 18,
   "id": "9ca53a7b",
   "metadata": {
    "execution": {
     "iopub.execute_input": "2023-04-04T18:11:55.282868Z",
     "iopub.status.busy": "2023-04-04T18:11:55.282594Z",
     "iopub.status.idle": "2023-04-04T18:11:55.287391Z",
     "shell.execute_reply": "2023-04-04T18:11:55.286328Z"
    },
    "papermill": {
     "duration": 0.019312,
     "end_time": "2023-04-04T18:11:55.289646",
     "exception": false,
     "start_time": "2023-04-04T18:11:55.270334",
     "status": "completed"
    },
    "tags": []
   },
   "outputs": [],
   "source": [
    "def abnormal_url(url):\n",
    "    hostname = urlparse(url).hostname\n",
    "    hostname = str(hostname)\n",
    "    match = re.search(hostname, url)\n",
    "    if match:\n",
    "        return 1\n",
    "    else:\n",
    "        return 0"
   ]
  },
  {
   "cell_type": "code",
   "execution_count": 19,
   "id": "667d9fd3",
   "metadata": {
    "execution": {
     "iopub.execute_input": "2023-04-04T18:11:55.315518Z",
     "iopub.status.busy": "2023-04-04T18:11:55.314555Z",
     "iopub.status.idle": "2023-04-04T18:12:09.678880Z",
     "shell.execute_reply": "2023-04-04T18:12:09.677801Z"
    },
    "papermill": {
     "duration": 14.379574,
     "end_time": "2023-04-04T18:12:09.681881",
     "exception": false,
     "start_time": "2023-04-04T18:11:55.302307",
     "status": "completed"
    },
    "tags": []
   },
   "outputs": [],
   "source": [
    "data['abnormal_url'] = data['url'].apply(lambda i: abnormal_url(i))"
   ]
  },
  {
   "cell_type": "code",
   "execution_count": 20,
   "id": "6bb3616d",
   "metadata": {
    "execution": {
     "iopub.execute_input": "2023-04-04T18:12:09.707842Z",
     "iopub.status.busy": "2023-04-04T18:12:09.707276Z",
     "iopub.status.idle": "2023-04-04T18:12:09.942740Z",
     "shell.execute_reply": "2023-04-04T18:12:09.941695Z"
    },
    "papermill": {
     "duration": 0.250835,
     "end_time": "2023-04-04T18:12:09.945194",
     "exception": false,
     "start_time": "2023-04-04T18:12:09.694359",
     "status": "completed"
    },
    "tags": []
   },
   "outputs": [
    {
     "data": {
      "text/plain": [
       "<AxesSubplot:xlabel='abnormal_url', ylabel='count'>"
      ]
     },
     "execution_count": 20,
     "metadata": {},
     "output_type": "execute_result"
    },
    {
     "data": {
      "image/png": "[encoded data removed]",
      "text/plain": [
       "<Figure size 640x480 with 1 Axes>"
      ]
     },
     "metadata": {},
     "output_type": "display_data"
    }
   ],
   "source": [
    "sns.countplot(x='abnormal_url', data=data)"
   ]
  },
  {
   "cell_type": "code",
   "execution_count": 21,
   "id": "415f5714",
   "metadata": {
    "execution": {
     "iopub.execute_input": "2023-04-04T18:12:09.970302Z",
     "iopub.status.busy": "2023-04-04T18:12:09.970003Z",
     "iopub.status.idle": "2023-04-04T18:12:09.975419Z",
     "shell.execute_reply": "2023-04-04T18:12:09.974313Z"
    },
    "papermill": {
     "duration": 0.020092,
     "end_time": "2023-04-04T18:12:09.977400",
     "exception": false,
     "start_time": "2023-04-04T18:12:09.957308",
     "status": "completed"
    },
    "tags": []
   },
   "outputs": [],
   "source": [
    "def httpsSecure(url):\n",
    "    htp = urlparse(url).scheme\n",
    "    match = str(htp)\n",
    "    if match == 'https':\n",
    "        return 1\n",
    "    else:\n",
    "        return 0"
   ]
  },
  {
   "cell_type": "code",
   "execution_count": 22,
   "id": "4ccf2642",
   "metadata": {
    "execution": {
     "iopub.execute_input": "2023-04-04T18:12:10.002898Z",
     "iopub.status.busy": "2023-04-04T18:12:10.001950Z",
     "iopub.status.idle": "2023-04-04T18:12:14.440922Z",
     "shell.execute_reply": "2023-04-04T18:12:14.439904Z"
    },
    "papermill": {
     "duration": 4.45458,
     "end_time": "2023-04-04T18:12:14.443460",
     "exception": false,
     "start_time": "2023-04-04T18:12:09.988880",
     "status": "completed"
    },
    "tags": []
   },
   "outputs": [],
   "source": [
    "data['https'] = data['url'].apply(lambda i: httpsSecure(i))"
   ]
  },
  {
   "cell_type": "code",
   "execution_count": 23,
   "id": "9d864e09",
   "metadata": {
    "execution": {
     "iopub.execute_input": "2023-04-04T18:12:14.469301Z",
     "iopub.status.busy": "2023-04-04T18:12:14.468292Z",
     "iopub.status.idle": "2023-04-04T18:12:14.697574Z",
     "shell.execute_reply": "2023-04-04T18:12:14.696481Z"
    },
    "papermill": {
     "duration": 0.244271,
     "end_time": "2023-04-04T18:12:14.699834",
     "exception": false,
     "start_time": "2023-04-04T18:12:14.455563",
     "status": "completed"
    },
    "tags": []
   },
   "outputs": [
    {
     "data": {
      "text/plain": [
       "<AxesSubplot:xlabel='https', ylabel='count'>"
      ]
     },
     "execution_count": 23,
     "metadata": {},
     "output_type": "execute_result"
    },
    {
     "data": {
      "image/png": "[encoded data removed]",
      "text/plain": [
       "<Figure size 640x480 with 1 Axes>"
      ]
     },
     "metadata": {},
     "output_type": "display_data"
    }
   ],
   "source": [
    "sns.countplot(x='https', data=data)"
   ]
  },
  {
   "cell_type": "markdown",
   "id": "53d83118",
   "metadata": {
    "papermill": {
     "duration": 0.012208,
     "end_time": "2023-04-04T18:12:14.724782",
     "exception": false,
     "start_time": "2023-04-04T18:12:14.712574",
     "status": "completed"
    },
    "tags": []
   },
   "source": [
    "### Count the number of digit characters in a URL"
   ]
  },
  {
   "cell_type": "code",
   "execution_count": 24,
   "id": "3d848d20",
   "metadata": {
    "execution": {
     "iopub.execute_input": "2023-04-04T18:12:14.749641Z",
     "iopub.status.busy": "2023-04-04T18:12:14.749327Z",
     "iopub.status.idle": "2023-04-04T18:12:14.754492Z",
     "shell.execute_reply": "2023-04-04T18:12:14.753383Z"
    },
    "papermill": {
     "duration": 0.020431,
     "end_time": "2023-04-04T18:12:14.757088",
     "exception": false,
     "start_time": "2023-04-04T18:12:14.736657",
     "status": "completed"
    },
    "tags": []
   },
   "outputs": [],
   "source": [
    "# Count the number of digit characters in a URL\n",
    "def digit_count(url):\n",
    "    digits = 0\n",
    "    for i in url:\n",
    "        if i.isnumeric():\n",
    "            digits += 1\n",
    "    return digits"
   ]
  },
  {
   "cell_type": "code",
   "execution_count": 25,
   "id": "d1c244d4",
   "metadata": {
    "execution": {
     "iopub.execute_input": "2023-04-04T18:12:14.781729Z",
     "iopub.status.busy": "2023-04-04T18:12:14.781447Z",
     "iopub.status.idle": "2023-04-04T18:12:18.447960Z",
     "shell.execute_reply": "2023-04-04T18:12:18.446914Z"
    },
    "papermill": {
     "duration": 3.681903,
     "end_time": "2023-04-04T18:12:18.450763",
     "exception": false,
     "start_time": "2023-04-04T18:12:14.768860",
     "status": "completed"
    },
    "tags": []
   },
   "outputs": [],
   "source": [
    "data['digits'] = data['url'].apply(lambda i: digit_count(i))"
   ]
  },
  {
   "cell_type": "markdown",
   "id": "34ff13ab",
   "metadata": {
    "papermill": {
     "duration": 0.011506,
     "end_time": "2023-04-04T18:12:18.474444",
     "exception": false,
     "start_time": "2023-04-04T18:12:18.462938",
     "status": "completed"
    },
    "tags": []
   },
   "source": [
    "### Count the number of letter characters in a URL"
   ]
  },
  {
   "cell_type": "code",
   "execution_count": 26,
   "id": "5f099030",
   "metadata": {
    "execution": {
     "iopub.execute_input": "2023-04-04T18:12:18.499091Z",
     "iopub.status.busy": "2023-04-04T18:12:18.498757Z",
     "iopub.status.idle": "2023-04-04T18:12:18.503804Z",
     "shell.execute_reply": "2023-04-04T18:12:18.502763Z"
    },
    "papermill": {
     "duration": 0.019706,
     "end_time": "2023-04-04T18:12:18.505829",
     "exception": false,
     "start_time": "2023-04-04T18:12:18.486123",
     "status": "completed"
    },
    "tags": []
   },
   "outputs": [],
   "source": [
    "# Count the number of letter characters in a URL\n",
    "def letter_count(url):\n",
    "    letters = 0\n",
    "    for i in url:\n",
    "        if i.isalpha():\n",
    "            letters += 1\n",
    "    return letters"
   ]
  },
  {
   "cell_type": "code",
   "execution_count": 27,
   "id": "0cd7eb63",
   "metadata": {
    "execution": {
     "iopub.execute_input": "2023-04-04T18:12:18.530083Z",
     "iopub.status.busy": "2023-04-04T18:12:18.529824Z",
     "iopub.status.idle": "2023-04-04T18:12:23.315474Z",
     "shell.execute_reply": "2023-04-04T18:12:23.314246Z"
    },
    "papermill": {
     "duration": 4.80098,
     "end_time": "2023-04-04T18:12:23.318435",
     "exception": false,
     "start_time": "2023-04-04T18:12:18.517455",
     "status": "completed"
    },
    "tags": []
   },
   "outputs": [],
   "source": [
    "data['letters'] = data['url'].apply(lambda i: letter_count(i))"
   ]
  },
  {
   "cell_type": "markdown",
   "id": "accaeaf0",
   "metadata": {
    "papermill": {
     "duration": 0.012638,
     "end_time": "2023-04-04T18:12:23.344741",
     "exception": false,
     "start_time": "2023-04-04T18:12:23.332103",
     "status": "completed"
    },
    "tags": []
   },
   "source": [
    "### Checks to see whether URL contains a shortening service"
   ]
  },
  {
   "cell_type": "code",
   "execution_count": 28,
   "id": "97e59fe0",
   "metadata": {
    "execution": {
     "iopub.execute_input": "2023-04-04T18:12:23.371605Z",
     "iopub.status.busy": "2023-04-04T18:12:23.371261Z",
     "iopub.status.idle": "2023-04-04T18:12:23.376997Z",
     "shell.execute_reply": "2023-04-04T18:12:23.375901Z"
    },
    "papermill": {
     "duration": 0.022,
     "end_time": "2023-04-04T18:12:23.379197",
     "exception": false,
     "start_time": "2023-04-04T18:12:23.357197",
     "status": "completed"
    },
    "tags": []
   },
   "outputs": [],
   "source": [
    "def Shortening_Service(url):\n",
    "    match = re.search('bit\\.ly|goo\\.gl|shorte\\.st|go2l\\.ink|x\\.co|ow\\.ly|t\\.co|tinyurl|tr\\.im|is\\.gd|cli\\.gs|'\n",
    "                      'yfrog\\.com|migre\\.me|ff\\.im|tiny\\.cc|url4\\.eu|twit\\.ac|su\\.pr|twurl\\.nl|snipurl\\.com|'\n",
    "                      'short\\.to|BudURL\\.com|ping\\.fm|post\\.ly|Just\\.as|bkite\\.com|snipr\\.com|fic\\.kr|loopt\\.us|'\n",
    "                      'doiop\\.com|short\\.ie|kl\\.am|wp\\.me|rubyurl\\.com|om\\.ly|to\\.ly|bit\\.do|t\\.co|lnkd\\.in|'\n",
    "                      'db\\.tt|qr\\.ae|adf\\.ly|goo\\.gl|bitly\\.com|cur\\.lv|tinyurl\\.com|ow\\.ly|bit\\.ly|ity\\.im|'\n",
    "                      'q\\.gs|is\\.gd|po\\.st|bc\\.vc|twitthis\\.com|u\\.to|j\\.mp|buzurl\\.com|cutt\\.us|u\\.bb|yourls\\.org|'\n",
    "                      'x\\.co|prettylinkpro\\.com|scrnch\\.me|filoops\\.info|vzturl\\.com|qr\\.net|1url\\.com|tweez\\.me|v\\.gd|'\n",
    "                      'tr\\.im|link\\.zip\\.net',\n",
    "                      url)\n",
    "    if match:\n",
    "        return 1\n",
    "    else:\n",
    "        return 0"
   ]
  },
  {
   "cell_type": "code",
   "execution_count": 29,
   "id": "4b365a68",
   "metadata": {
    "execution": {
     "iopub.execute_input": "2023-04-04T18:12:23.405855Z",
     "iopub.status.busy": "2023-04-04T18:12:23.405031Z",
     "iopub.status.idle": "2023-04-04T18:12:29.629294Z",
     "shell.execute_reply": "2023-04-04T18:12:29.628167Z"
    },
    "papermill": {
     "duration": 6.240372,
     "end_time": "2023-04-04T18:12:29.632140",
     "exception": false,
     "start_time": "2023-04-04T18:12:23.391768",
     "status": "completed"
    },
    "tags": []
   },
   "outputs": [],
   "source": [
    "data['Shortening_Service'] = data['url'].apply(lambda x: Shortening_Service(x))"
   ]
  },
  {
   "cell_type": "code",
   "execution_count": 30,
   "id": "a6c72e81",
   "metadata": {
    "execution": {
     "iopub.execute_input": "2023-04-04T18:12:29.659671Z",
     "iopub.status.busy": "2023-04-04T18:12:29.658608Z",
     "iopub.status.idle": "2023-04-04T18:12:29.892763Z",
     "shell.execute_reply": "2023-04-04T18:12:29.891427Z"
    },
    "papermill": {
     "duration": 0.250549,
     "end_time": "2023-04-04T18:12:29.895426",
     "exception": false,
     "start_time": "2023-04-04T18:12:29.644877",
     "status": "completed"
    },
    "tags": []
   },
   "outputs": [
    {
     "data": {
      "text/plain": [
       "<AxesSubplot:xlabel='Shortening_Service', ylabel='count'>"
      ]
     },
     "execution_count": 30,
     "metadata": {},
     "output_type": "execute_result"
    },
    {
     "data": {
      "image/png": "[encoded data removed]",
      "text/plain": [
       "<Figure size 640x480 with 1 Axes>"
      ]
     },
     "metadata": {},
     "output_type": "display_data"
    }
   ],
   "source": [
    "sns.countplot(x='Shortening_Service', data=data)"
   ]
  },
  {
   "cell_type": "code",
   "execution_count": 31,
   "id": "a4a04077",
   "metadata": {
    "execution": {
     "iopub.execute_input": "2023-04-04T18:12:29.925023Z",
     "iopub.status.busy": "2023-04-04T18:12:29.924711Z",
     "iopub.status.idle": "2023-04-04T18:12:29.930959Z",
     "shell.execute_reply": "2023-04-04T18:12:29.929661Z"
    },
    "papermill": {
     "duration": 0.023699,
     "end_time": "2023-04-04T18:12:29.933851",
     "exception": false,
     "start_time": "2023-04-04T18:12:29.910152",
     "status": "completed"
    },
    "tags": []
   },
   "outputs": [],
   "source": [
    "def having_ip_address(url):\n",
    "    match = re.search(\n",
    "        '(([01]?\\\\d\\\\d?|2[0-4]\\\\d|25[0-5])\\\\.([01]?\\\\d\\\\d?|2[0-4]\\\\d|25[0-5])\\\\.([01]?\\\\d\\\\d?|2[0-4]\\\\d|25[0-5])\\\\.'\n",
    "        '([01]?\\\\d\\\\d?|2[0-4]\\\\d|25[0-5])\\\\/)|'  # IPv4\n",
    "        '(([01]?\\\\d\\\\d?|2[0-4]\\\\d|25[0-5])\\\\.([01]?\\\\d\\\\d?|2[0-4]\\\\d|25[0-5])\\\\.([01]?\\\\d\\\\d?|2[0-4]\\\\d|25[0-5])\\\\.'\n",
    "        '([01]?\\\\d\\\\d?|2[0-4]\\\\d|25[0-5])\\\\/)|'  # IPv4 with port\n",
    "        '((0x[0-9a-fA-F]{1,2})\\\\.(0x[0-9a-fA-F]{1,2})\\\\.(0x[0-9a-fA-F]{1,2})\\\\.(0x[0-9a-fA-F]{1,2})\\\\/)' # IPv4 in hexadecimal\n",
    "        '(?:[a-fA-F0-9]{1,4}:){7}[a-fA-F0-9]{1,4}|'\n",
    "        '([0-9]+(?:\\.[0-9]+){3}:[0-9]+)|'\n",
    "        '((?:(?:\\d|[01]?\\d\\d|2[0-4]\\d|25[0-5])\\.){3}(?:25[0-5]|2[0-4]\\d|[01]?\\d\\d|\\d)(?:\\/\\d{1,2})?)', url)  # Ipv6\n",
    "    if match:\n",
    "        return 1\n",
    "    else:\n",
    "        return 0"
   ]
  },
  {
   "cell_type": "code",
   "execution_count": 32,
   "id": "7fcd28f4",
   "metadata": {
    "execution": {
     "iopub.execute_input": "2023-04-04T18:12:29.960394Z",
     "iopub.status.busy": "2023-04-04T18:12:29.960062Z",
     "iopub.status.idle": "2023-04-04T18:12:48.245017Z",
     "shell.execute_reply": "2023-04-04T18:12:48.243961Z"
    },
    "papermill": {
     "duration": 18.301332,
     "end_time": "2023-04-04T18:12:48.247821",
     "exception": false,
     "start_time": "2023-04-04T18:12:29.946489",
     "status": "completed"
    },
    "tags": []
   },
   "outputs": [],
   "source": [
    "data['having_ip_address'] = data['url'].apply(lambda i: having_ip_address(i))"
   ]
  },
  {
   "cell_type": "code",
   "execution_count": 33,
   "id": "f08098ad",
   "metadata": {
    "execution": {
     "iopub.execute_input": "2023-04-04T18:12:48.274021Z",
     "iopub.status.busy": "2023-04-04T18:12:48.273701Z",
     "iopub.status.idle": "2023-04-04T18:12:48.287065Z",
     "shell.execute_reply": "2023-04-04T18:12:48.286092Z"
    },
    "papermill": {
     "duration": 0.028498,
     "end_time": "2023-04-04T18:12:48.289040",
     "exception": false,
     "start_time": "2023-04-04T18:12:48.260542",
     "status": "completed"
    },
    "tags": []
   },
   "outputs": [
    {
     "data": {
      "text/plain": [
       "0    638703\n",
       "1     12488\n",
       "Name: having_ip_address, dtype: int64"
      ]
     },
     "execution_count": 33,
     "metadata": {},
     "output_type": "execute_result"
    }
   ],
   "source": [
    "data['having_ip_address'].value_counts()"
   ]
  },
  {
   "cell_type": "code",
   "execution_count": 34,
   "id": "6f941b5f",
   "metadata": {
    "execution": {
     "iopub.execute_input": "2023-04-04T18:12:48.315558Z",
     "iopub.status.busy": "2023-04-04T18:12:48.314723Z",
     "iopub.status.idle": "2023-04-04T18:12:49.841110Z",
     "shell.execute_reply": "2023-04-04T18:12:49.839977Z"
    },
    "papermill": {
     "duration": 1.542701,
     "end_time": "2023-04-04T18:12:49.843737",
     "exception": false,
     "start_time": "2023-04-04T18:12:48.301036",
     "status": "completed"
    },
    "tags": []
   },
   "outputs": [
    {
     "data": {
      "text/plain": [
       "<AxesSubplot:>"
      ]
     },
     "execution_count": 34,
     "metadata": {},
     "output_type": "execute_result"
    },
    {
     "data": {
      "image/png": "[encoded data removed]",
      "text/plain": [
       "<Figure size 1500x1500 with 2 Axes>"
      ]
     },
     "metadata": {},
     "output_type": "display_data"
    }
   ],
   "source": [
    "plt.figure(figsize=(15, 15))\n",
    "sns.heatmap(data.corr(), linewidths=.5)"
   ]
  },
  {
   "cell_type": "code",
   "execution_count": 35,
   "id": "3af4419d",
   "metadata": {
    "execution": {
     "iopub.execute_input": "2023-04-04T18:12:49.872221Z",
     "iopub.status.busy": "2023-04-04T18:12:49.871355Z",
     "iopub.status.idle": "2023-04-04T18:12:50.057130Z",
     "shell.execute_reply": "2023-04-04T18:12:50.055720Z"
    },
    "papermill": {
     "duration": 0.203849,
     "end_time": "2023-04-04T18:12:50.061230",
     "exception": false,
     "start_time": "2023-04-04T18:12:49.857381",
     "status": "completed"
    },
    "tags": []
   },
   "outputs": [],
   "source": [
    "X = data.drop(['url', 'type', 'Category', 'domain'], axis=1)\n",
    "y = data['Category']"
   ]
  },
  {
   "cell_type": "markdown",
   "id": "8dbee8fe",
   "metadata": {
    "papermill": {
     "duration": 0.027706,
     "end_time": "2023-04-04T18:12:50.111626",
     "exception": false,
     "start_time": "2023-04-04T18:12:50.083920",
     "status": "completed"
    },
    "tags": []
   },
   "source": [
    "# Train & Test Split"
   ]
  },
  {
   "cell_type": "code",
   "execution_count": 36,
   "id": "a261d502",
   "metadata": {
    "execution": {
     "iopub.execute_input": "2023-04-04T18:12:50.166263Z",
     "iopub.status.busy": "2023-04-04T18:12:50.165803Z",
     "iopub.status.idle": "2023-04-04T18:12:50.334451Z",
     "shell.execute_reply": "2023-04-04T18:12:50.333426Z"
    },
    "papermill": {
     "duration": 0.195963,
     "end_time": "2023-04-04T18:12:50.337025",
     "exception": false,
     "start_time": "2023-04-04T18:12:50.141062",
     "status": "completed"
    },
    "tags": []
   },
   "outputs": [],
   "source": [
    "X_train, X_test, y_train, y_test = train_test_split(X, y, test_size=0.2, random_state=2)"
   ]
  },
  {
   "cell_type": "markdown",
   "id": "f6b32e82",
   "metadata": {
    "papermill": {
     "duration": 0.013147,
     "end_time": "2023-04-04T18:12:50.363774",
     "exception": false,
     "start_time": "2023-04-04T18:12:50.350627",
     "status": "completed"
    },
    "tags": []
   },
   "source": [
    "# Training Models"
   ]
  },
  {
   "cell_type": "code",
   "execution_count": 37,
   "id": "201b7559",
   "metadata": {
    "execution": {
     "iopub.execute_input": "2023-04-04T18:12:50.392003Z",
     "iopub.status.busy": "2023-04-04T18:12:50.391665Z",
     "iopub.status.idle": "2023-04-04T18:12:50.396212Z",
     "shell.execute_reply": "2023-04-04T18:12:50.395216Z"
    },
    "papermill": {
     "duration": 0.021299,
     "end_time": "2023-04-04T18:12:50.398291",
     "exception": false,
     "start_time": "2023-04-04T18:12:50.376992",
     "status": "completed"
    },
    "tags": []
   },
   "outputs": [],
   "source": [
    "from sklearn.metrics import plot_confusion_matrix\n",
    "from sklearn.metrics import plot_roc_curve"
   ]
  },
  {
   "cell_type": "code",
   "execution_count": 38,
   "id": "bfa56790",
   "metadata": {
    "execution": {
     "iopub.execute_input": "2023-04-04T18:12:50.425911Z",
     "iopub.status.busy": "2023-04-04T18:12:50.425133Z",
     "iopub.status.idle": "2023-04-04T18:36:23.709343Z",
     "shell.execute_reply": "2023-04-04T18:36:23.708306Z"
    },
    "papermill": {
     "duration": 1413.300847,
     "end_time": "2023-04-04T18:36:23.712238",
     "exception": false,
     "start_time": "2023-04-04T18:12:50.411391",
     "status": "completed"
    },
    "tags": []
   },
   "outputs": [
    {
     "name": "stdout",
     "output_type": "stream",
     "text": [
      "########################################################################\n",
      "Model =>\u001b[07m <class 'sklearn.tree._classes.DecisionTreeClassifier'> \u001b[0m\n",
      "Test Accuracy :\u001b[32m \u001b[01m 90.93% \u001b[30m \u001b[0m\n",
      "\u001b[01m              Classification_report \u001b[0m\n",
      "              precision    recall  f1-score   support\n",
      "\n",
      "           0       0.92      0.97      0.94     85565\n",
      "           1       0.93      0.96      0.94     19319\n",
      "           2       0.80      0.57      0.66     18805\n",
      "           3       0.94      0.91      0.93      6550\n",
      "\n",
      "    accuracy                           0.91    130239\n",
      "   macro avg       0.90      0.85      0.87    130239\n",
      "weighted avg       0.90      0.91      0.90    130239\n",
      "\n",
      "\u001b[01m             Confusion_matrix \u001b[0m\n"
     ]
    },
    {
     "data": {
      "image/png": "[encoded data removed]",
      "text/plain": [
       "<Figure size 640x480 with 2 Axes>"
      ]
     },
     "metadata": {},
     "output_type": "display_data"
    },
    {
     "name": "stdout",
     "output_type": "stream",
     "text": [
      "\u001b[31m##########################- End -################################\u001b[0m\n",
      "########################################################################\n",
      "Model =>\u001b[07m <class 'sklearn.ensemble._forest.RandomForestClassifier'> \u001b[0m\n",
      "Test Accuracy :\u001b[32m \u001b[01m 91.49% \u001b[30m \u001b[0m\n",
      "\u001b[01m              Classification_report \u001b[0m\n",
      "              precision    recall  f1-score   support\n",
      "\n",
      "           0       0.92      0.98      0.95     85565\n",
      "           1       0.94      0.97      0.95     19319\n",
      "           2       0.83      0.58      0.68     18805\n",
      "           3       0.96      0.91      0.93      6550\n",
      "\n",
      "    accuracy                           0.91    130239\n",
      "   macro avg       0.91      0.86      0.88    130239\n",
      "weighted avg       0.91      0.91      0.91    130239\n",
      "\n",
      "\u001b[01m             Confusion_matrix \u001b[0m\n"
     ]
    },
    {
     "data": {
      "image/png": "[encoded data removed]",
      "text/plain": [
       "<Figure size 640x480 with 2 Axes>"
      ]
     },
     "metadata": {},
     "output_type": "display_data"
    },
    {
     "name": "stdout",
     "output_type": "stream",
     "text": [
      "\u001b[31m##########################- End -################################\u001b[0m\n",
      "########################################################################\n",
      "Model =>\u001b[07m <class 'sklearn.ensemble._weight_boosting.AdaBoostClassifier'> \u001b[0m\n",
      "Test Accuracy :\u001b[32m \u001b[01m 82.01% \u001b[30m \u001b[0m\n",
      "\u001b[01m              Classification_report \u001b[0m\n",
      "              precision    recall  f1-score   support\n",
      "\n",
      "           0       0.84      0.98      0.90     85565\n",
      "           1       0.82      0.89      0.85     19319\n",
      "           2       0.45      0.15      0.22     18805\n",
      "           3       0.91      0.46      0.61      6550\n",
      "\n",
      "    accuracy                           0.82    130239\n",
      "   macro avg       0.75      0.62      0.65    130239\n",
      "weighted avg       0.78      0.82      0.78    130239\n",
      "\n",
      "\u001b[01m             Confusion_matrix \u001b[0m\n"
     ]
    },
    {
     "data": {
      "image/png": "[encoded data removed]",
      "text/plain": [
       "<Figure size 640x480 with 2 Axes>"
      ]
     },
     "metadata": {},
     "output_type": "display_data"
    },
    {
     "name": "stdout",
     "output_type": "stream",
     "text": [
      "\u001b[31m##########################- End -################################\u001b[0m\n",
      "########################################################################\n",
      "Model =>\u001b[07m <class 'sklearn.neighbors._classification.KNeighborsClassifier'> \u001b[0m\n",
      "Test Accuracy :\u001b[32m \u001b[01m 89.04% \u001b[30m \u001b[0m\n",
      "\u001b[01m              Classification_report \u001b[0m\n",
      "              precision    recall  f1-score   support\n",
      "\n",
      "           0       0.91      0.96      0.93     85565\n",
      "           1       0.89      0.95      0.92     19319\n",
      "           2       0.74      0.52      0.61     18805\n",
      "           3       0.94      0.87      0.91      6550\n",
      "\n",
      "    accuracy                           0.89    130239\n",
      "   macro avg       0.87      0.83      0.84    130239\n",
      "weighted avg       0.88      0.89      0.88    130239\n",
      "\n",
      "\u001b[01m             Confusion_matrix \u001b[0m\n"
     ]
    },
    {
     "data": {
      "image/png": "[encoded data removed]",
      "text/plain": [
       "<Figure size 640x480 with 2 Axes>"
      ]
     },
     "metadata": {},
     "output_type": "display_data"
    },
    {
     "name": "stdout",
     "output_type": "stream",
     "text": [
      "\u001b[31m##########################- End -################################\u001b[0m\n",
      "########################################################################\n",
      "Model =>\u001b[07m <class 'sklearn.linear_model._stochastic_gradient.SGDClassifier'> \u001b[0m\n",
      "Test Accuracy :\u001b[32m \u001b[01m 80.47% \u001b[30m \u001b[0m\n",
      "\u001b[01m              Classification_report \u001b[0m\n",
      "              precision    recall  f1-score   support\n",
      "\n",
      "           0       0.84      0.95      0.89     85565\n",
      "           1       0.68      0.99      0.81     19319\n",
      "           2       0.81      0.01      0.02     18805\n",
      "           3       0.81      0.62      0.70      6550\n",
      "\n",
      "    accuracy                           0.80    130239\n",
      "   macro avg       0.78      0.64      0.60    130239\n",
      "weighted avg       0.81      0.80      0.74    130239\n",
      "\n",
      "\u001b[01m             Confusion_matrix \u001b[0m\n"
     ]
    },
    {
     "data": {
      "image/png": "[encoded data removed]",
      "text/plain": [
       "<Figure size 640x480 with 2 Axes>"
      ]
     },
     "metadata": {},
     "output_type": "display_data"
    },
    {
     "name": "stdout",
     "output_type": "stream",
     "text": [
      "\u001b[31m##########################- End -################################\u001b[0m\n",
      "########################################################################\n",
      "Model =>\u001b[07m <class 'sklearn.ensemble._forest.ExtraTreesClassifier'> \u001b[0m\n",
      "Test Accuracy :\u001b[32m \u001b[01m 91.47% \u001b[30m \u001b[0m\n",
      "\u001b[01m              Classification_report \u001b[0m\n",
      "              precision    recall  f1-score   support\n",
      "\n",
      "           0       0.92      0.98      0.95     85565\n",
      "           1       0.93      0.97      0.95     19319\n",
      "           2       0.83      0.57      0.68     18805\n",
      "           3       0.97      0.91      0.94      6550\n",
      "\n",
      "    accuracy                           0.91    130239\n",
      "   macro avg       0.91      0.86      0.88    130239\n",
      "weighted avg       0.91      0.91      0.91    130239\n",
      "\n",
      "\u001b[01m             Confusion_matrix \u001b[0m\n"
     ]
    },
    {
     "data": {
      "image/png": "[encoded data removed]",
      "text/plain": [
       "<Figure size 640x480 with 2 Axes>"
      ]
     },
     "metadata": {},
     "output_type": "display_data"
    },
    {
     "name": "stdout",
     "output_type": "stream",
     "text": [
      "\u001b[31m##########################- End -################################\u001b[0m\n",
      "########################################################################\n",
      "Model =>\u001b[07m <class 'sklearn.naive_bayes.GaussianNB'> \u001b[0m\n",
      "Test Accuracy :\u001b[32m \u001b[01m 78.95% \u001b[30m \u001b[0m\n",
      "\u001b[01m              Classification_report \u001b[0m\n",
      "              precision    recall  f1-score   support\n",
      "\n",
      "           0       0.85      0.92      0.88     85565\n",
      "           1       0.66      1.00      0.79     19319\n",
      "           2       0.60      0.02      0.04     18805\n",
      "           3       0.61      0.70      0.65      6550\n",
      "\n",
      "    accuracy                           0.79    130239\n",
      "   macro avg       0.68      0.66      0.59    130239\n",
      "weighted avg       0.77      0.79      0.74    130239\n",
      "\n",
      "\u001b[01m             Confusion_matrix \u001b[0m\n"
     ]
    },
    {
     "data": {
      "image/png": "[encoded data removed]",
      "text/plain": [
       "<Figure size 640x480 with 2 Axes>"
      ]
     },
     "metadata": {},
     "output_type": "display_data"
    },
    {
     "name": "stdout",
     "output_type": "stream",
     "text": [
      "\u001b[31m##########################- End -################################\u001b[0m\n"
     ]
    }
   ],
   "source": [
    "models = [DecisionTreeClassifier,RandomForestClassifier,AdaBoostClassifier,KNeighborsClassifier,SGDClassifier,\n",
    "         ExtraTreesClassifier,GaussianNB]\n",
    "accuracy_test=[]\n",
    "for m in models:\n",
    "    print('########################################################################')\n",
    "    print('Model =>\\033[07m {} \\033[0m'.format(m))\n",
    "    model_ = m()\n",
    "    model_.fit(X_train, y_train)\n",
    "    pred = model_.predict(X_test)\n",
    "    acc = accuracy_score(pred, y_test)\n",
    "    accuracy_test.append(acc)\n",
    "    print('Test Accuracy :\\033[32m \\033[01m {:.2f}% \\033[30m \\033[0m'.format(acc*100))\n",
    "    print('\\033[01m              Classification_report \\033[0m')\n",
    "    print(classification_report(y_test, pred))\n",
    "    print('\\033[01m             Confusion_matrix \\033[0m')\n",
    "    cf_matrix = confusion_matrix(y_test, pred)\n",
    "    plot_ = sns.heatmap(cf_matrix/np.sum(cf_matrix), annot=True,fmt= '0.2%')\n",
    "    plt.show()\n",
    "    print('\\033[31m##########################- End -################################\\033[0m')"
   ]
  },
  {
   "cell_type": "markdown",
   "id": "1f4c4d13",
   "metadata": {
    "papermill": {
     "duration": 0.017272,
     "end_time": "2023-04-04T18:36:23.746914",
     "exception": false,
     "start_time": "2023-04-04T18:36:23.729642",
     "status": "completed"
    },
    "tags": []
   },
   "source": [
    "# Final Report"
   ]
  },
  {
   "cell_type": "code",
   "execution_count": 39,
   "id": "29abf651",
   "metadata": {
    "execution": {
     "iopub.execute_input": "2023-04-04T18:36:23.782901Z",
     "iopub.status.busy": "2023-04-04T18:36:23.782056Z",
     "iopub.status.idle": "2023-04-04T18:36:23.788352Z",
     "shell.execute_reply": "2023-04-04T18:36:23.787458Z"
    },
    "papermill": {
     "duration": 0.026815,
     "end_time": "2023-04-04T18:36:23.790620",
     "exception": false,
     "start_time": "2023-04-04T18:36:23.763805",
     "status": "completed"
    },
    "tags": []
   },
   "outputs": [],
   "source": [
    "output = pd.DataFrame({\"Model\":['Decision Tree Classifier','Random Forest Classifier',\n",
    "                                'AdaBoost Classifier','KNeighbors Classifier','SGD Classifier',\n",
    "                                'Extra Trees Classifier','Gaussian NB'],\n",
    "                      \"Accuracy\":accuracy_test})"
   ]
  },
  {
   "cell_type": "code",
   "execution_count": 40,
   "id": "12cfe6c2",
   "metadata": {
    "execution": {
     "iopub.execute_input": "2023-04-04T18:36:23.826900Z",
     "iopub.status.busy": "2023-04-04T18:36:23.826007Z",
     "iopub.status.idle": "2023-04-04T18:36:23.836598Z",
     "shell.execute_reply": "2023-04-04T18:36:23.835235Z"
    },
    "papermill": {
     "duration": 0.031155,
     "end_time": "2023-04-04T18:36:23.839061",
     "exception": false,
     "start_time": "2023-04-04T18:36:23.807906",
     "status": "completed"
    },
    "tags": []
   },
   "outputs": [
    {
     "data": {
      "text/html": [
       "<div>\n",
       "<style scoped>\n",
       "    .dataframe tbody tr th:only-of-type {\n",
       "        vertical-align: middle;\n",
       "    }\n",
       "\n",
       "    .dataframe tbody tr th {\n",
       "        vertical-align: top;\n",
       "    }\n",
       "\n",
       "    .dataframe thead th {\n",
       "        text-align: right;\n",
       "    }\n",
       "</style>\n",
       "<table border=\"1\" class=\"dataframe\">\n",
       "  <thead>\n",
       "    <tr style=\"text-align: right;\">\n",
       "      <th></th>\n",
       "      <th>Model</th>\n",
       "      <th>Accuracy</th>\n",
       "    </tr>\n",
       "  </thead>\n",
       "  <tbody>\n",
       "    <tr>\n",
       "      <th>0</th>\n",
       "      <td>Decision Tree Classifier</td>\n",
       "      <td>0.909328</td>\n",
       "    </tr>\n",
       "    <tr>\n",
       "      <th>1</th>\n",
       "      <td>Random Forest Classifier</td>\n",
       "      <td>0.914895</td>\n",
       "    </tr>\n",
       "    <tr>\n",
       "      <th>2</th>\n",
       "      <td>AdaBoost Classifier</td>\n",
       "      <td>0.820077</td>\n",
       "    </tr>\n",
       "    <tr>\n",
       "      <th>3</th>\n",
       "      <td>KNeighbors Classifier</td>\n",
       "      <td>0.890409</td>\n",
       "    </tr>\n",
       "    <tr>\n",
       "      <th>4</th>\n",
       "      <td>SGD Classifier</td>\n",
       "      <td>0.804728</td>\n",
       "    </tr>\n",
       "    <tr>\n",
       "      <th>5</th>\n",
       "      <td>Extra Trees Classifier</td>\n",
       "      <td>0.914665</td>\n",
       "    </tr>\n",
       "    <tr>\n",
       "      <th>6</th>\n",
       "      <td>Gaussian NB</td>\n",
       "      <td>0.789548</td>\n",
       "    </tr>\n",
       "  </tbody>\n",
       "</table>\n",
       "</div>"
      ],
      "text/plain": [
       "                      Model  Accuracy\n",
       "0  Decision Tree Classifier  0.909328\n",
       "1  Random Forest Classifier  0.914895\n",
       "2       AdaBoost Classifier  0.820077\n",
       "3     KNeighbors Classifier  0.890409\n",
       "4            SGD Classifier  0.804728\n",
       "5    Extra Trees Classifier  0.914665\n",
       "6               Gaussian NB  0.789548"
      ]
     },
     "execution_count": 40,
     "metadata": {},
     "output_type": "execute_result"
    }
   ],
   "source": [
    "output"
   ]
  },
  {
   "cell_type": "code",
   "execution_count": 41,
   "id": "15d53ece",
   "metadata": {
    "execution": {
     "iopub.execute_input": "2023-04-04T18:36:23.874869Z",
     "iopub.status.busy": "2023-04-04T18:36:23.874251Z",
     "iopub.status.idle": "2023-04-04T18:36:24.126486Z",
     "shell.execute_reply": "2023-04-04T18:36:24.125355Z"
    },
    "papermill": {
     "duration": 0.272119,
     "end_time": "2023-04-04T18:36:24.128680",
     "exception": false,
     "start_time": "2023-04-04T18:36:23.856561",
     "status": "completed"
    },
    "tags": []
   },
   "outputs": [
    {
     "data": {
      "image/png": "[encoded data removed]",
      "text/plain": [
       "<Figure size 1000x500 with 1 Axes>"
      ]
     },
     "metadata": {},
     "output_type": "display_data"
    }
   ],
   "source": [
    "plt.figure(figsize=(10, 5))\n",
    "plots = sns.barplot(x='Model', y='Accuracy', data=output)\n",
    "for bar in plots.patches:\n",
    "    plots.annotate(format(bar.get_height(), '.2f'),\n",
    "                   (bar.get_x() + bar.get_width() / 2,\n",
    "                    bar.get_height()), ha='center', va='center',\n",
    "                   size=15, xytext=(0, 8),\n",
    "                   textcoords='offset points')\n",
    "\n",
    "plt.xlabel(\"Models\", size=14)\n",
    "plt.xticks(rotation=20);\n",
    "plt.ylabel(\"Accuracy\", size=14)\n",
    "plt.show()"
   ]
  }
 ],
 "metadata": {
  "kernelspec": {
   "display_name": "Python 3",
   "language": "python",
   "name": "python3"
  },
  "language_info": {
   "codemirror_mode": {
    "name": "ipython",
    "version": 3
   },
   "file_extension": ".py",
   "mimetype": "text/x-python",
   "name": "python",
   "nbconvert_exporter": "python",
   "pygments_lexer": "ipython3",
   "version": "3.7.12"
  },
  "papermill": {
   "default_parameters": {},
   "duration": 1510.549283,
   "end_time": "2023-04-04T18:36:24.971928",
   "environment_variables": {},
   "exception": null,
   "input_path": "__notebook__.ipynb",
   "output_path": "__notebook__.ipynb",
   "parameters": {},
   "start_time": "2023-04-04T18:11:14.422645",
   "version": "2.4.0"
  }
 },
 "nbformat": 4,
 "nbformat_minor": 5
}
